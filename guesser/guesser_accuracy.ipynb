{
 "cells": [
  {
   "cell_type": "code",
   "execution_count": 1,
   "id": "4b08d368",
   "metadata": {},
   "outputs": [],
   "source": [
    "import os\n",
    "import re\n",
    "import pandas as pd\n",
    "import random"
   ]
  },
  {
   "cell_type": "markdown",
   "id": "63bc30cb",
   "metadata": {},
   "source": [
    "Compute accuracy for the guesser. "
   ]
  },
  {
   "cell_type": "markdown",
   "id": "d238fde8",
   "metadata": {},
   "source": [
    "Make sure that andi.guesser.hfst exists and is in the current repository. "
   ]
  },
  {
   "cell_type": "markdown",
   "id": "94bd4210",
   "metadata": {},
   "source": [
    "To create andi.guesser.hfst: andi/guesser make andi.guesser.hfst"
   ]
  },
  {
   "cell_type": "code",
   "execution_count": 2,
   "id": "c5a098c1",
   "metadata": {},
   "outputs": [],
   "source": [
    "def guess_word(word):\n",
    "    output = os.popen(f\"echo {word} | hfst-guess andi.guesser.hfst -n 60\").read().rstrip('\\n\\n')\n",
    "    parses = []\n",
    "    for el in output.split('\\n'):\n",
    "        parses.append(re.sub('\\[GUESS_CATEGORY=\\w+\\]', '', ':'.join(el.split('\\t'))))\n",
    "    if parses == ['']:\n",
    "        parses = []\n",
    "    return parses"
   ]
  },
  {
   "cell_type": "code",
   "execution_count": 19,
   "id": "ee8f6f82",
   "metadata": {},
   "outputs": [],
   "source": [
    "def count_guessed(standard, print_=False):\n",
    "    guessed = 0\n",
    "    not_analysed = 0\n",
    "    analysed = 0\n",
    "    g_pos_tags = 0\n",
    "    g_tags = 0\n",
    "    for line in standard:\n",
    "        guesses = guess_word(line[0])\n",
    "        if guesses: \n",
    "            analysed +=1\n",
    "            if f'{line[0]}:{line[1]}' in guesses:\n",
    "                guessed += 1\n",
    "            else:\n",
    "                if print_:\n",
    "                    print('FAIL')\n",
    "                    print(f'standard: {line[0]}:{line[1]}')\n",
    "                    print(guess_word(line[0]))\n",
    "                    print()\n",
    "                    print()\n",
    "                    \n",
    "            guessed_pos_tags = [re.findall('<.*>', l)[0] for l in guesses]\n",
    "            true_pos_tag = re.findall('<.*>', line[1])[0]\n",
    "            if true_pos_tag in guessed_pos_tags:\n",
    "                g_pos_tags += 1\n",
    "                \n",
    "            guessed_tags = [re.findall('<\\w+>(<.*>)', l)[0] for l in guesses]\n",
    "            true_tag = re.findall('<\\w+>(<.*>)', line[1])\n",
    "            if true_tag and true_tag[0] in guessed_tags:\n",
    "                g_tags += 1\n",
    "        else:\n",
    "            not_analysed += 1\n",
    "            \n",
    "\n",
    "    print('analysed: ', analysed)\n",
    "    print('not analysed: ', not_analysed)\n",
    "    print('coverage: ', analysed/(analysed+not_analysed))\n",
    "    \n",
    "    print('guessed: ', guessed)\n",
    "    print('accuracy: ', guessed/(analysed+not_analysed))\n",
    "    \n",
    "    print('guessed_pos_tags: ', g_pos_tags)\n",
    "    print('pos_tags accuracy: ', g_pos_tags/(analysed+not_analysed))\n",
    "    \n",
    "    print('guessed_tags: ', g_tags)\n",
    "    print('tags accuracy: ', g_tags/(analysed+not_analysed))"
   ]
  },
  {
   "cell_type": "markdown",
   "id": "1992670b",
   "metadata": {},
   "source": [
    "# Fox"
   ]
  },
  {
   "cell_type": "code",
   "execution_count": 4,
   "id": "af381943",
   "metadata": {},
   "outputs": [],
   "source": [
    "with open('unrecog-fox.txt', 'r') as file:\n",
    "    file = file.read()\n",
    "    fox_unrecog = re.findall('\\d+ \\^(?P<word>[а-яёІ]+)\\/\\*[а-яёІ]+\\$', file)"
   ]
  },
  {
   "cell_type": "code",
   "execution_count": 5,
   "id": "af9a8d57",
   "metadata": {},
   "outputs": [],
   "source": [
    "df = pd.read_csv('fox-parses.csv')"
   ]
  },
  {
   "cell_type": "code",
   "execution_count": 6,
   "id": "b46d2573",
   "metadata": {},
   "outputs": [],
   "source": [
    "st_unr = [(word, parse) for word, parse in zip(list(df.word), list(df.standard_parses)) if word in fox_unrecog]\n",
    "mod_unr = [(word, parse) for word, parse in zip(list(df.word), list(df.modified_parses)) if word in fox_unrecog]\n",
    "st_noun = [(word, parse) for word, parse in zip(list(df.word), list(df.standard_parses)) if word in fox_unrecog and '<n>' in parse]\n",
    "mod_noun = [(word, parse) for word, parse in zip(list(df.word), list(df.modified_parses)) if word in fox_unrecog and '<n>' in parse]\n",
    "st_verb = [(word, parse) for word, parse in zip(list(df.word), list(df.standard_parses)) if word in fox_unrecog and '<verb>' in parse]\n",
    "mod_verb = [(word, parse) for word, parse in zip(list(df.word), list(df.modified_parses)) if word in fox_unrecog and '<verb>' in parse]"
   ]
  },
  {
   "cell_type": "code",
   "execution_count": 20,
   "id": "aa63dca7",
   "metadata": {},
   "outputs": [
    {
     "name": "stdout",
     "output_type": "stream",
     "text": [
      "standard_unrecog\n",
      "analysed:  76\n",
      "not analysed:  9\n",
      "coverage:  0.8941176470588236\n",
      "guessed:  37\n",
      "accuracy:  0.43529411764705883\n",
      "guessed_pos_tags:  46\n",
      "pos_tags accuracy:  0.5411764705882353\n",
      "guessed_tags:  48\n",
      "tags accuracy:  0.5647058823529412\n",
      "\n",
      "standard_unrecog_verbs\n",
      "analysed:  27\n",
      "not analysed:  0\n",
      "coverage:  1.0\n",
      "guessed:  16\n",
      "accuracy:  0.5925925925925926\n",
      "guessed_pos_tags:  18\n",
      "pos_tags accuracy:  0.6666666666666666\n",
      "guessed_tags:  19\n",
      "tags accuracy:  0.7037037037037037\n",
      "\n",
      "standard_unrecog_nouns\n",
      "analysed:  35\n",
      "not analysed:  8\n",
      "coverage:  0.813953488372093\n",
      "guessed:  21\n",
      "accuracy:  0.4883720930232558\n",
      "guessed_pos_tags:  28\n",
      "pos_tags accuracy:  0.6511627906976745\n",
      "guessed_tags:  28\n",
      "tags accuracy:  0.6511627906976745\n",
      "\n"
     ]
    }
   ],
   "source": [
    "print('standard_unrecog') \n",
    "count_guessed(st_unr)\n",
    "print()\n",
    "print('standard_unrecog_verbs') \n",
    "count_guessed(st_verb)\n",
    "print()\n",
    "print('standard_unrecog_nouns') \n",
    "count_guessed(st_noun)\n",
    "print()"
   ]
  },
  {
   "cell_type": "code",
   "execution_count": 22,
   "id": "df3ad30c",
   "metadata": {},
   "outputs": [
    {
     "name": "stdout",
     "output_type": "stream",
     "text": [
      "modified_unrecog\n",
      "analysed:  76\n",
      "not analysed:  9\n",
      "coverage:  0.8941176470588236\n",
      "guessed:  40\n",
      "accuracy:  0.47058823529411764\n",
      "guessed_pos_tags:  50\n",
      "pos_tags accuracy:  0.5882352941176471\n",
      "guessed_tags:  51\n",
      "tags accuracy:  0.6\n",
      "\n",
      "mod_verbs\n",
      "analysed:  27\n",
      "not analysed:  0\n",
      "coverage:  1.0\n",
      "guessed:  19\n",
      "accuracy:  0.7037037037037037\n",
      "guessed_pos_tags:  22\n",
      "pos_tags accuracy:  0.8148148148148148\n",
      "guessed_tags:  22\n",
      "tags accuracy:  0.8148148148148148\n",
      "\n"
     ]
    }
   ],
   "source": [
    "print('modified_unrecog') \n",
    "count_guessed(mod_unr)\n",
    "print()\n",
    "print('mod_verbs') \n",
    "count_guessed(mod_verb)\n",
    "print()"
   ]
  },
  {
   "cell_type": "markdown",
   "id": "cf688872",
   "metadata": {},
   "source": [
    "# Perfect tests"
   ]
  },
  {
   "cell_type": "code",
   "execution_count": 11,
   "id": "e765cb4b",
   "metadata": {},
   "outputs": [],
   "source": [
    "with open('test_nouns.txt', 'r') as file:\n",
    "    file = file.read().split()\n",
    "    nouns = [(l.split(':')[1], l.split(':')[0]) for l in file]"
   ]
  },
  {
   "cell_type": "code",
   "execution_count": 23,
   "id": "a34a2c03",
   "metadata": {},
   "outputs": [
    {
     "name": "stdout",
     "output_type": "stream",
     "text": [
      "analysed:  225\n",
      "not analysed:  0\n",
      "coverage:  1.0\n",
      "guessed:  225\n",
      "accuracy:  1.0\n",
      "guessed_pos_tags:  225\n",
      "pos_tags accuracy:  1.0\n",
      "guessed_tags:  225\n",
      "tags accuracy:  1.0\n"
     ]
    }
   ],
   "source": [
    "count_guessed(nouns)"
   ]
  },
  {
   "cell_type": "code",
   "execution_count": 13,
   "id": "637d6acf",
   "metadata": {},
   "outputs": [],
   "source": [
    "with open('test_verbs.txt', 'r') as file:\n",
    "    file = file.read().split()\n",
    "    verbs = [(l.split(':')[1], l.split(':')[0]) for l in file]"
   ]
  },
  {
   "cell_type": "code",
   "execution_count": 14,
   "id": "0537a3a3",
   "metadata": {},
   "outputs": [
    {
     "name": "stdout",
     "output_type": "stream",
     "text": [
      "analysed:  833\n",
      "not analysed:  0\n",
      "coverage:  1.0\n",
      "guessed:  581\n",
      "accuracy:  0.6974789915966386\n",
      "guessed_pos_tags:  716\n",
      "pos_tags accuracy:  0.8595438175270108\n",
      "guessed_tags:  716\n",
      "tags accuracy:  0.8595438175270108\n"
     ]
    }
   ],
   "source": [
    "count_guessed(verbs)"
   ]
  },
  {
   "cell_type": "code",
   "execution_count": 17,
   "id": "4b48a9e6",
   "metadata": {},
   "outputs": [
    {
     "name": "stdout",
     "output_type": "stream",
     "text": [
      "FAIL\n",
      "standard: авжарадогужа:авжиду<verb><progr><cvb.prs>\n",
      "['авжарадогужа:авжду<verb><progr><cvb.prs>', 'авжарадогужа:авжаду<verb><progr><cvb.prs>', 'авжарадогужа:авжану<verb><progr><cvb.prs>', 'авжарадогужа:авжарадогІа<n><obl.pl><ess><prt>', 'авжарадогужа:авжарадогл<n><obl.pl><ess><prt>', 'авжарадогужа:авжарадога<n><obl.sg><ess><prt>', 'авжарадогужа:авжарадогІцІе<n><obl.sg><ess><prt>', 'авжарадогужа:авжарадогл<n><obl.sg><ess><prt>', 'авжарадогужа:авжарадогу<n><obl.sg><ess><prt>', 'авжарадогужа:авжарадогІа<n><obl.pl><in><prt>', 'авжарадогужа:авжарадогл<n><obl.pl><in><prt>', 'авжарадогужа:авжарадога<n><obl.sg><in><prt>', 'авжарадогужа:авжарадогІцІе<n><obl.sg><in><prt>', 'авжарадогужа:авжарадогл<n><obl.sg><in><prt>', 'авжарадогужа:авжарадогу<n><obl.sg><in><prt>', 'авжарадогужа:авжарадогу<verb><inf><prt>', 'авжарадогужа:авжарадогу<n><abs.sg><prt>', 'авжарадогужа:авжарадогуду<verb><aor><prt>', 'авжарадогужа:авжарадогуду<verb><imp><prt>', 'авжарадогужа:авжарадогуну<verb><imp><prt>', 'авжарадогужа:авжарадогуну<verb><aor><prt>']\n",
      "\n",
      "\n",
      "FAIL\n",
      "standard: авжаламдур:авжиду<verb><aor><ctrf>\n",
      "['авжаламдур:авжду<verb><aor><ctrf>', 'авжаламдур:авжаду<verb><aor><ctrf>', 'авжаламдур:авжану<verb><aor><ctrf>', 'авжаламдур:авжалинну<verb><part.pst><ctrf>', 'авжаламдур:авжалду<verb><part.pst><ctrf>', 'авжаламдур:авжаладу<verb><part.pst><ctrf>', 'авжаламдур:авжаламиди<n><obl.sg><cl><gen>', 'авжаламдур:авжаламд<n><obl.pl><cl><gen>', 'авжаламдур:авжаламд<n><obl.sg><cl><gen>', 'авжаламдур:авжаламда<n><obl.sg><cl><gen>', 'авжаламдур:авжаламдол<n><obl.sg><cl><gen>', 'авжаламдур:авжаламдо<n><obl.sg><cl><gen>', 'авжаламдур:авжаламду<n><obl.sg><cl><gen>', 'авжаламдур:авжаламдуду<verb><progr>', 'авжаламдур:авжаламдуІа<n><obl.pl><cl><gen>', 'авжаламдур:авжаламдул<n><obl.pl><cl><gen>', 'авжаламдур:авжаламдуа<n><obl.sg><cl><gen>', 'авжаламдур:авжаламдуІцІе<n><obl.sg><cl><gen>', 'авжаламдур:авжаламдуу<n><obl.sg><cl><gen>', 'авжаламдур:авжаламдуну<verb><progr>']\n",
      "\n",
      "\n",
      "FAIL\n",
      "standard: авжаламдулле:авжиду<verb><aor><ctrf><prt>\n",
      "['авжаламдулле:авжалам<n><abs.pl><prt>', 'авжаламдулле:авжалама<n><abs.pl><prt>', 'авжаламдулле:авжаламб<n><abs.pl><prt>', 'авжаламдулле:авжаламй<n><abs.pl><prt>', 'авжаламдулле:авжаламу<n><abs.pl><prt>', 'авжаламдулле:авжаламдкІа<n><abs.pl><prt>', 'авжаламдулле:авжаламди<n><abs.pl><prt>', 'авжаламдулле:авжаламдл<n><abs.pl><prt>', 'авжаламдулле:авжаламдо<n><abs.pl><prt>', 'авжаламдулле:авжаламдр<n><abs.pl><prt>', 'авжаламдулле:авжаламду<n><abs.pl><prt>', 'авжаламдулле:авжаламда<n><abs.pl><prt>', 'авжаламдулле:авжаламду<n><abs.pl><prt>', 'авжаламдулле:авжаламдул<n><abs.sg><prt>', 'авжаламдулле:авжаламдукІа<n><abs.pl><prt>', 'авжаламдулле:авжаламдуи<n><abs.pl><prt>', 'авжаламдулле:авжаламдул<n><abs.pl><prt>', 'авжаламдулле:авжаламдуо<n><abs.pl><prt>', 'авжаламдулле:авжаламдур<n><abs.pl><prt>', 'авжаламдулле:авжаламдуу<n><abs.pl><prt>', 'авжаламдулле:авжаламдуллу<verb><hab>', 'авжаламдулле:авжаламдулду<verb><imp><prt>', 'авжаламдулле:авжаламдулну<verb><imp><prt>', 'авжаламдулле:авжаламдулду<verb><aor><prt>', 'авжаламдулле:авжаламдулну<verb><aor><prt>']\n",
      "\n",
      "\n",
      "FAIL\n",
      "standard: авжадду:авжиду<verb><cvb.pst>\n",
      "['авжадду:авжду<verb><cvb.pst>', 'авжадду:авжду<verb><pf>', 'авжадду:авжаиду<verb><cvb.pst>', 'авжадду:авжану<verb><cvb.pst>', 'авжадду:авжаиду<verb><pf>', 'авжадду:авжану<verb><pf>', 'авжадду:авжадду<verb><inf>', 'авжадду:авжадиду<verb><inf>', 'авжадду:авжаддІа<n><obl.pl><ess>', 'авжадду:авжаддл<n><obl.pl><ess>', 'авжадду:авжадда<n><obl.sg><ess>', 'авжадду:авжаддІцІе<n><obl.sg><ess>', 'авжадду:авжаддл<n><obl.sg><ess>', 'авжадду:авжадду<n><obl.sg><ess>', 'авжадду:авжаддІа<n><obl.pl><in>', 'авжадду:авжаддл<n><obl.pl><in>', 'авжадду:авжадда<n><obl.sg><in>', 'авжадду:авжаддІцІе<n><obl.sg><in>', 'авжадду:авжаддл<n><obl.sg><in>', 'авжадду:авжадду<n><obl.sg><in>']\n",
      "\n",
      "\n",
      "FAIL\n",
      "standard: авчидйаламдулле:авчиду<verb><fut><ctrf><prt>\n",
      "['авчидйаламдулле:авчидйалам<n><abs.pl><prt>', 'авчидйаламдулле:авчидйалама<n><abs.pl><prt>', 'авчидйаламдулле:авчидйаламб<n><abs.pl><prt>', 'авчидйаламдулле:авчидйаламй<n><abs.pl><prt>', 'авчидйаламдулле:авчидйаламу<n><abs.pl><prt>', 'авчидйаламдулле:авчидйаламдкІа<n><abs.pl><prt>', 'авчидйаламдулле:авчидйаламди<n><abs.pl><prt>', 'авчидйаламдулле:авчидйаламдл<n><abs.pl><prt>', 'авчидйаламдулле:авчидйаламдо<n><abs.pl><prt>', 'авчидйаламдулле:авчидйаламдр<n><abs.pl><prt>', 'авчидйаламдулле:авчидйаламду<n><abs.pl><prt>', 'авчидйаламдулле:авчидйаламда<n><abs.pl><prt>', 'авчидйаламдулле:авчидйаламду<n><abs.pl><prt>', 'авчидйаламдулле:авчидйаламдул<n><abs.sg><prt>', 'авчидйаламдулле:авчидйаламдукІа<n><abs.pl><prt>', 'авчидйаламдулле:авчидйаламдуи<n><abs.pl><prt>', 'авчидйаламдулле:авчидйаламдул<n><abs.pl><prt>', 'авчидйаламдулле:авчидйаламдуо<n><abs.pl><prt>', 'авчидйаламдулле:авчидйаламдур<n><abs.pl><prt>', 'авчидйаламдулле:авчидйаламдуу<n><abs.pl><prt>', 'авчидйаламдулле:авчидйаламдуллу<verb><hab>', 'авчидйаламдулле:авчидйаламдулду<verb><imp><prt>', 'авчидйаламдулле:авчидйаламдулну<verb><imp><prt>', 'авчидйаламдулле:авчидйаламдулду<verb><aor><prt>', 'авчидйаламдулле:авчидйаламдулну<verb><aor><prt>']\n",
      "\n",
      "\n",
      "FAIL\n",
      "standard: авжамолло:авжиду<verb><conc>\n",
      "['авжамолло:авжду<verb><conc>', 'авжамолло:авжинну<verb><conc>', 'авжамолло:авжаму<n><abs.pl><conj>', 'авжамолло:авжаду<verb><conc>', 'авжамолло:авжам<n><abs.pl><conj>', 'авжамолло:авжам<n><abs.pl><conj>', 'авжамолло:авжан<n><abs.pl><conj>', 'авжамолло:авжана<n><abs.pl><conj>', 'авжамолло:авжамкІа<n><abs.pl><conj>', 'авжамолло:авжами<n><abs.pl><conj>', 'авжамолло:авжамл<n><abs.pl><conj>', 'авжамолло:авжамо<n><abs.pl><conj>', 'авжамолло:авжамр<n><abs.pl><conj>', 'авжамолло:авжаму<n><abs.pl><conj>', 'авжамолло:авжами<n><abs.pl><conj>', 'авжамолло:авжамил<n><abs.pl><conj>', 'авжамолло:авжамо<n><abs.pl><conj>', 'авжамолло:авжамол<n><abs.sg><conj>', 'авжамолло:авжамол<n><obl.sg><in.lat>', 'авжамолло:авжамол<n><obl.sg><sup.lat>', 'авжамолло:авжамокІа<n><abs.pl><conj>', 'авжамолло:авжамои<n><abs.pl><conj>', 'авжамолло:авжамоо<n><abs.pl><conj>', 'авжамолло:авжамор<n><abs.pl><conj>', 'авжамолло:авжамоу<n><abs.pl><conj>', 'авжамолло:авжамо<n><obl.pl><in.lat>', 'авжамолло:авжамо<n><obl.sg><in.lat>', 'авжамолло:авжамо<n><obl.pl><sup.lat>', 'авжамолло:авжамо<n><obl.sg><sup.lat>', 'авжамолло:авжамоллу<verb><hab>', 'авжамолло:авжамолду<verb><imp><conj>', 'авжамолло:авжамолну<verb><imp><conj>', 'авжамолло:авжамолду<verb><aor><conj>', 'авжамолло:авжамолну<verb><aor><conj>', 'авжамолло:авжамолІа<n><obl.pl><in.lat>', 'авжамолло:авжамолл<n><obl.pl><in.lat>', 'авжамолло:авжамола<n><obl.sg><in.lat>', 'авжамолло:авжамолІцІе<n><obl.sg><in.lat>', 'авжамолло:авжамолл<n><obl.sg><in.lat>', 'авжамолло:авжамолу<n><obl.sg><in.lat>', 'авжамолло:авжамолІа<n><obl.pl><sup.lat>', 'авжамолло:авжамолл<n><obl.pl><sup.lat>', 'авжамолло:авжамола<n><obl.sg><sup.lat>', 'авжамолло:авжамолІцІе<n><obl.sg><sup.lat>', 'авжамолло:авжамолл<n><obl.sg><sup.lat>', 'авжамолло:авжамолу<n><obl.sg><sup.lat>']\n",
      "\n",
      "\n",
      "FAIL\n",
      "standard: авахидйаламдулле:авахиду<verb><fut><ctrf><prt>\n",
      "['авахидйаламдулле:авахидйалам<n><abs.pl><prt>', 'авахидйаламдулле:авахидйалама<n><abs.pl><prt>', 'авахидйаламдулле:авахидйаламб<n><abs.pl><prt>', 'авахидйаламдулле:авахидйаламй<n><abs.pl><prt>', 'авахидйаламдулле:авахидйаламу<n><abs.pl><prt>', 'авахидйаламдулле:авахидйаламдкІа<n><abs.pl><prt>', 'авахидйаламдулле:авахидйаламди<n><abs.pl><prt>', 'авахидйаламдулле:авахидйаламдл<n><abs.pl><prt>', 'авахидйаламдулле:авахидйаламдо<n><abs.pl><prt>', 'авахидйаламдулле:авахидйаламдр<n><abs.pl><prt>', 'авахидйаламдулле:авахидйаламду<n><abs.pl><prt>', 'авахидйаламдулле:авахидйаламда<n><abs.pl><prt>', 'авахидйаламдулле:авахидйаламду<n><abs.pl><prt>', 'авахидйаламдулле:авахидйаламдул<n><abs.sg><prt>', 'авахидйаламдулле:авахидйаламдукІа<n><abs.pl><prt>', 'авахидйаламдулле:авахидйаламдуи<n><abs.pl><prt>', 'авахидйаламдулле:авахидйаламдул<n><abs.pl><prt>', 'авахидйаламдулле:авахидйаламдуо<n><abs.pl><prt>', 'авахидйаламдулле:авахидйаламдур<n><abs.pl><prt>', 'авахидйаламдулле:авахидйаламдуу<n><abs.pl><prt>', 'авахидйаламдулле:авахидйаламдуллу<verb><hab>', 'авахидйаламдулле:авахидйаламдулду<verb><imp><prt>', 'авахидйаламдулле:авахидйаламдулну<verb><imp><prt>', 'авахидйаламдулле:авахидйаламдулду<verb><aor><prt>', 'авахидйаламдулле:авахидйаламдулну<verb><aor><prt>']\n",
      "\n",
      "\n"
     ]
    },
    {
     "name": "stdout",
     "output_type": "stream",
     "text": [
      "FAIL\n",
      "standard: авжамаллосси:авжиду<verb><progr><part.prs>\n",
      "['авжамаллосси:авжду<verb><progr><part.prs>', 'авжамаллосси:авжинну<verb><progr><part.prs>', 'авжамаллосси:авжаду<verb><progr><part.prs>', 'авжамаллосси:авжамаллоу<verb><part.prs>', 'авжамаллосси:авжамаллосс<n><obl.sg><ess>', 'авжамаллосси:авжамаллосс<n><obl.sg><in>']\n",
      "\n",
      "\n",
      "FAIL\n",
      "standard: авжарадоссде:авжиду<verb><progr><part.prs><prt>\n",
      "['авжарадоссде:авжду<verb><progr><part.prs><prt>', 'авжарадоссде:авжаду<verb><progr><part.prs><prt>', 'авжарадоссде:авжану<verb><progr><part.prs><prt>', 'авжарадоссде:авжарадоу<verb><part.prs><prt>', 'авжарадоссде:авжарадосси<n><abs.sg><prt>', 'авжарадоссде:авжарадоссду<verb><hab>', 'авжарадоссде:авжарадоссду<verb><imp><prt>', 'авжарадоссде:авжарадоссну<verb><imp><prt>', 'авжарадоссде:авжарадоссиду<verb><aor><prt>', 'авжарадоссде:авжарадоссну<verb><aor><prt>', 'авжарадоссде:авжарадоссиду<verb><hab>']\n",
      "\n",
      "\n",
      "FAIL\n",
      "standard: авжаламдурде:авжиду<verb><aor><ctrf><prt>\n",
      "['авжаламдурде:авжду<verb><aor><ctrf><prt>', 'авжаламдурде:авжаду<verb><aor><ctrf><prt>', 'авжаламдурде:авжану<verb><aor><ctrf><prt>', 'авжаламдурде:авжалинну<verb><part.pst><ctrf><prt>', 'авжаламдурде:авжалду<verb><part.pst><ctrf><prt>', 'авжаламдурде:авжаладу<verb><part.pst><ctrf><prt>', 'авжаламдурде:авжаламиди<n><obl.sg><cl><gen><prt>', 'авжаламдурде:авжаламдур<n><abs.sg><prt>', 'авжаламдурде:авжаламд<n><obl.pl><cl><gen><prt>', 'авжаламдурде:авжаламд<n><obl.sg><cl><gen><prt>', 'авжаламдурде:авжаламда<n><obl.sg><cl><gen><prt>', 'авжаламдурде:авжаламдол<n><obl.sg><cl><gen><prt>', 'авжаламдурде:авжаламдо<n><obl.sg><cl><gen><prt>', 'авжаламдурде:авжаламду<n><obl.sg><cl><gen><prt>', 'авжаламдурде:авжаламдуду<verb><progr><prt>', 'авжаламдурде:авжаламдури<n><abs.sg><prt>', 'авжаламдурде:авжаламдурду<verb><hab>', 'авжаламдурде:авжаламдуІа<n><obl.pl><cl><gen><prt>', 'авжаламдурде:авжаламдул<n><obl.pl><cl><gen><prt>', 'авжаламдурде:авжаламдуа<n><obl.sg><cl><gen><prt>', 'авжаламдурде:авжаламдуІцІе<n><obl.sg><cl><gen><prt>', 'авжаламдурде:авжаламдуу<n><obl.sg><cl><gen><prt>', 'авжаламдурде:авжаламдуну<verb><progr><prt>', 'авжаламдурде:авжаламдуру<verb><aor><prt>', 'авжаламдурде:авжаламдурду<verb><imp><prt>', 'авжаламдурде:авжаламдурну<verb><imp><prt>', 'авжаламдурде:авжаламдуриду<verb><aor><prt>', 'авжаламдурде:авжаламдурну<verb><aor><prt>', 'авжаламдурде:авжаламдуриду<verb><hab>']\n",
      "\n",
      "\n",
      "analysed:  50\n",
      "not analysed:  0\n",
      "coverage:  1.0\n",
      "guessed:  40\n",
      "accuracy:  0.8\n",
      "guessed_pos_tags:  47\n",
      "pos_tags accuracy:  0.94\n",
      "guessed_tags:  47\n",
      "tags accuracy:  0.94\n"
     ]
    }
   ],
   "source": [
    "count_guessed(random.sample(verbs, 50), True)"
   ]
  }
 ],
 "metadata": {
  "kernelspec": {
   "display_name": "Python 3 (ipykernel)",
   "language": "python",
   "name": "python3"
  },
  "language_info": {
   "codemirror_mode": {
    "name": "ipython",
    "version": 3
   },
   "file_extension": ".py",
   "mimetype": "text/x-python",
   "name": "python",
   "nbconvert_exporter": "python",
   "pygments_lexer": "ipython3",
   "version": "3.10.6"
  }
 },
 "nbformat": 4,
 "nbformat_minor": 5
}
