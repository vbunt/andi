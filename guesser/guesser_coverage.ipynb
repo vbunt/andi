{
 "cells": [
  {
   "cell_type": "code",
   "execution_count": 2,
   "id": "07510c97",
   "metadata": {},
   "outputs": [],
   "source": [
    "import re\n",
    "import os"
   ]
  },
  {
   "cell_type": "markdown",
   "id": "a8315e88",
   "metadata": {},
   "source": [
    "Check coverage of the guesser."
   ]
  },
  {
   "cell_type": "markdown",
   "id": "c035f827",
   "metadata": {},
   "source": [
    "To make andi.guesser.hfst: in andi/guesser make andi.guesser.hfst"
   ]
  },
  {
   "cell_type": "markdown",
   "id": "d3c5642c",
   "metadata": {},
   "source": [
    "To make unrecog-fox.txt etc. : andi/coverage make check-unrecog. Make sure the andi.analyzer.hfstol exists in the same repository."
   ]
  },
  {
   "cell_type": "code",
   "execution_count": 1,
   "id": "2aa73b75",
   "metadata": {},
   "outputs": [],
   "source": [
    "def guess_word(word):\n",
    "    output = os.popen(f\"echo {word} | hfst-guess andi.guesser.hfst -n 10\").read().rstrip('\\n\\n')\n",
    "    parses = []\n",
    "    for el in output.split('\\n'):\n",
    "        parses.append(':'.join(el.split('\\t')))\n",
    "        \n",
    "    return parses"
   ]
  },
  {
   "cell_type": "code",
   "execution_count": 12,
   "id": "f559bf41",
   "metadata": {},
   "outputs": [],
   "source": [
    "def check_guesser_coverage(path):\n",
    "    with open(path, 'r') as file:\n",
    "        file = file.read()\n",
    "        words = re.findall('(?P<num>\\d+) \\^(?P<word>[а-яёІ]+)\\/\\*[а-яёІ]+\\$', file)\n",
    "        wd = {}\n",
    "        for word in words:\n",
    "            guess = guess_word(word[1])\n",
    "            if guess == ['']:\n",
    "                guess = []\n",
    "            wd[word[1]] = {'number': int(word[0]), 'guess':guess, 'len_guess':len(guess)}\n",
    "\n",
    "    n_recog = 0\n",
    "    n_unrecog = 0\n",
    "    for word in wd.keys():\n",
    "        if wd[word]['len_guess']:\n",
    "            n_recog += wd[word]['number']\n",
    "        else:\n",
    "            n_unrecog += wd[word]['number']\n",
    "\n",
    "    print('recog: ', n_recog)\n",
    "    print('unrecog: ', n_unrecog)\n",
    "    print('coverage: ', n_recog/(n_recog+n_unrecog))\n",
    "    \n",
    "    return wd"
   ]
  },
  {
   "cell_type": "code",
   "execution_count": 13,
   "id": "b30a5cb6",
   "metadata": {},
   "outputs": [
    {
     "name": "stdout",
     "output_type": "stream",
     "text": [
      "recog:  10056\n",
      "unrecog:  1197\n",
      "coverage:  0.8936283657691282\n"
     ]
    }
   ],
   "source": [
    "bible_dict = check_guesser_coverage('unrecog-bible.txt')"
   ]
  },
  {
   "cell_type": "code",
   "execution_count": 14,
   "id": "457058a2",
   "metadata": {},
   "outputs": [
    {
     "name": "stdout",
     "output_type": "stream",
     "text": [
      "recog:  4069\n",
      "unrecog:  378\n",
      "coverage:  0.9149988756465033\n"
     ]
    }
   ],
   "source": [
    "tales_dict = check_guesser_coverage('unrecog-tales.txt')"
   ]
  },
  {
   "cell_type": "code",
   "execution_count": 15,
   "id": "14225d10",
   "metadata": {},
   "outputs": [
    {
     "name": "stdout",
     "output_type": "stream",
     "text": [
      "recog:  81\n",
      "unrecog:  9\n",
      "coverage:  0.9\n"
     ]
    }
   ],
   "source": [
    "fox_dict = check_guesser_coverage('unrecog-fox.txt')"
   ]
  }
 ],
 "metadata": {
  "kernelspec": {
   "display_name": "Python 3 (ipykernel)",
   "language": "python",
   "name": "python3"
  },
  "language_info": {
   "codemirror_mode": {
    "name": "ipython",
    "version": 3
   },
   "file_extension": ".py",
   "mimetype": "text/x-python",
   "name": "python",
   "nbconvert_exporter": "python",
   "pygments_lexer": "ipython3",
   "version": "3.10.6"
  }
 },
 "nbformat": 4,
 "nbformat_minor": 5
}
